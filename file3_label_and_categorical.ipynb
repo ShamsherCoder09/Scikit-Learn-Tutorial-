{
 "cells": [
  {
   "cell_type": "code",
   "execution_count": 1,
   "id": "d52d24d9",
   "metadata": {},
   "outputs": [],
   "source": [
    "import numpy as np \n",
    "import pandas as pd"
   ]
  },
  {
   "cell_type": "code",
   "execution_count": 2,
   "id": "c74f83a3",
   "metadata": {},
   "outputs": [
    {
     "data": {
      "text/html": [
       "<div>\n",
       "<style scoped>\n",
       "    .dataframe tbody tr th:only-of-type {\n",
       "        vertical-align: middle;\n",
       "    }\n",
       "\n",
       "    .dataframe tbody tr th {\n",
       "        vertical-align: top;\n",
       "    }\n",
       "\n",
       "    .dataframe thead th {\n",
       "        text-align: right;\n",
       "    }\n",
       "</style>\n",
       "<table border=\"1\" class=\"dataframe\">\n",
       "  <thead>\n",
       "    <tr style=\"text-align: right;\">\n",
       "      <th></th>\n",
       "      <th>name</th>\n",
       "      <th>year</th>\n",
       "      <th>selling_price</th>\n",
       "      <th>km_driven</th>\n",
       "      <th>fuel</th>\n",
       "      <th>seller_type</th>\n",
       "      <th>transmission</th>\n",
       "      <th>owner</th>\n",
       "    </tr>\n",
       "  </thead>\n",
       "  <tbody>\n",
       "    <tr>\n",
       "      <th>0</th>\n",
       "      <td>Maruti 800 AC</td>\n",
       "      <td>2007</td>\n",
       "      <td>60000</td>\n",
       "      <td>70000</td>\n",
       "      <td>Petrol</td>\n",
       "      <td>Individual</td>\n",
       "      <td>Manual</td>\n",
       "      <td>First Owner</td>\n",
       "    </tr>\n",
       "    <tr>\n",
       "      <th>1</th>\n",
       "      <td>Maruti Wagon R LXI Minor</td>\n",
       "      <td>2007</td>\n",
       "      <td>135000</td>\n",
       "      <td>50000</td>\n",
       "      <td>Petrol</td>\n",
       "      <td>Individual</td>\n",
       "      <td>Manual</td>\n",
       "      <td>First Owner</td>\n",
       "    </tr>\n",
       "    <tr>\n",
       "      <th>2</th>\n",
       "      <td>Hyundai Verna 1.6 SX</td>\n",
       "      <td>2012</td>\n",
       "      <td>600000</td>\n",
       "      <td>100000</td>\n",
       "      <td>Diesel</td>\n",
       "      <td>Individual</td>\n",
       "      <td>Manual</td>\n",
       "      <td>First Owner</td>\n",
       "    </tr>\n",
       "    <tr>\n",
       "      <th>3</th>\n",
       "      <td>Datsun RediGO T Option</td>\n",
       "      <td>2017</td>\n",
       "      <td>250000</td>\n",
       "      <td>46000</td>\n",
       "      <td>Petrol</td>\n",
       "      <td>Individual</td>\n",
       "      <td>Manual</td>\n",
       "      <td>First Owner</td>\n",
       "    </tr>\n",
       "    <tr>\n",
       "      <th>4</th>\n",
       "      <td>Honda Amaze VX i-DTEC</td>\n",
       "      <td>2014</td>\n",
       "      <td>450000</td>\n",
       "      <td>141000</td>\n",
       "      <td>Diesel</td>\n",
       "      <td>Individual</td>\n",
       "      <td>Manual</td>\n",
       "      <td>Second Owner</td>\n",
       "    </tr>\n",
       "  </tbody>\n",
       "</table>\n",
       "</div>"
      ],
      "text/plain": [
       "                       name  year  selling_price  km_driven    fuel  \\\n",
       "0             Maruti 800 AC  2007          60000      70000  Petrol   \n",
       "1  Maruti Wagon R LXI Minor  2007         135000      50000  Petrol   \n",
       "2      Hyundai Verna 1.6 SX  2012         600000     100000  Diesel   \n",
       "3    Datsun RediGO T Option  2017         250000      46000  Petrol   \n",
       "4     Honda Amaze VX i-DTEC  2014         450000     141000  Diesel   \n",
       "\n",
       "  seller_type transmission         owner  \n",
       "0  Individual       Manual   First Owner  \n",
       "1  Individual       Manual   First Owner  \n",
       "2  Individual       Manual   First Owner  \n",
       "3  Individual       Manual   First Owner  \n",
       "4  Individual       Manual  Second Owner  "
      ]
     },
     "execution_count": 2,
     "metadata": {},
     "output_type": "execute_result"
    }
   ],
   "source": [
    "df = pd.read_csv(\"CAR DETAILS FROM CAR DEKHO.csv\")\n",
    "df.head()"
   ]
  },
  {
   "cell_type": "code",
   "execution_count": 4,
   "id": "d2b156cb",
   "metadata": {},
   "outputs": [],
   "source": [
    "df.drop(['name',\"year\",'selling_price','km_driven'],axis=1, inplace=True)"
   ]
  },
  {
   "cell_type": "code",
   "execution_count": 5,
   "id": "d4c9ff85",
   "metadata": {},
   "outputs": [
    {
     "data": {
      "text/html": [
       "<div>\n",
       "<style scoped>\n",
       "    .dataframe tbody tr th:only-of-type {\n",
       "        vertical-align: middle;\n",
       "    }\n",
       "\n",
       "    .dataframe tbody tr th {\n",
       "        vertical-align: top;\n",
       "    }\n",
       "\n",
       "    .dataframe thead th {\n",
       "        text-align: right;\n",
       "    }\n",
       "</style>\n",
       "<table border=\"1\" class=\"dataframe\">\n",
       "  <thead>\n",
       "    <tr style=\"text-align: right;\">\n",
       "      <th></th>\n",
       "      <th>fuel</th>\n",
       "      <th>seller_type</th>\n",
       "      <th>transmission</th>\n",
       "      <th>owner</th>\n",
       "    </tr>\n",
       "  </thead>\n",
       "  <tbody>\n",
       "    <tr>\n",
       "      <th>0</th>\n",
       "      <td>Petrol</td>\n",
       "      <td>Individual</td>\n",
       "      <td>Manual</td>\n",
       "      <td>First Owner</td>\n",
       "    </tr>\n",
       "    <tr>\n",
       "      <th>1</th>\n",
       "      <td>Petrol</td>\n",
       "      <td>Individual</td>\n",
       "      <td>Manual</td>\n",
       "      <td>First Owner</td>\n",
       "    </tr>\n",
       "    <tr>\n",
       "      <th>2</th>\n",
       "      <td>Diesel</td>\n",
       "      <td>Individual</td>\n",
       "      <td>Manual</td>\n",
       "      <td>First Owner</td>\n",
       "    </tr>\n",
       "    <tr>\n",
       "      <th>3</th>\n",
       "      <td>Petrol</td>\n",
       "      <td>Individual</td>\n",
       "      <td>Manual</td>\n",
       "      <td>First Owner</td>\n",
       "    </tr>\n",
       "    <tr>\n",
       "      <th>4</th>\n",
       "      <td>Diesel</td>\n",
       "      <td>Individual</td>\n",
       "      <td>Manual</td>\n",
       "      <td>Second Owner</td>\n",
       "    </tr>\n",
       "  </tbody>\n",
       "</table>\n",
       "</div>"
      ],
      "text/plain": [
       "     fuel seller_type transmission         owner\n",
       "0  Petrol  Individual       Manual   First Owner\n",
       "1  Petrol  Individual       Manual   First Owner\n",
       "2  Diesel  Individual       Manual   First Owner\n",
       "3  Petrol  Individual       Manual   First Owner\n",
       "4  Diesel  Individual       Manual  Second Owner"
      ]
     },
     "execution_count": 5,
     "metadata": {},
     "output_type": "execute_result"
    }
   ],
   "source": [
    "df.head()"
   ]
  },
  {
   "cell_type": "code",
   "execution_count": 6,
   "id": "8ca0fd7f",
   "metadata": {},
   "outputs": [],
   "source": [
    "X = df.drop('fuel', axis=1)\n",
    "y = df['fuel']"
   ]
  },
  {
   "cell_type": "code",
   "execution_count": 7,
   "id": "437f7b12",
   "metadata": {},
   "outputs": [],
   "source": [
    "from sklearn.model_selection import train_test_split\n",
    "X_train, X_test, y_train, y_test = train_test_split(X, y, test_size=0.2, random_state=42)"
   ]
  },
  {
   "cell_type": "markdown",
   "id": "8f391231",
   "metadata": {},
   "source": [
    "# apply Label Encoder and Ordianl Encoder"
   ]
  },
  {
   "cell_type": "markdown",
   "id": "a55940ec",
   "metadata": {},
   "source": []
  },
  {
   "cell_type": "code",
   "execution_count": 9,
   "id": "848c8195",
   "metadata": {},
   "outputs": [],
   "source": [
    "from sklearn.preprocessing import LabelEncoder, OrdinalEncoder\n"
   ]
  },
  {
   "cell_type": "code",
   "execution_count": 11,
   "id": "c9f2bc70",
   "metadata": {},
   "outputs": [],
   "source": [
    "le = LabelEncoder()\n",
    "y_train_trans = le.fit_transform(y_train)\n",
    "y_test_trans = le.transform(y_test)\n"
   ]
  },
  {
   "cell_type": "code",
   "execution_count": 12,
   "id": "7d6a52ba",
   "metadata": {},
   "outputs": [
    {
     "data": {
      "text/plain": [
       "array([1, 4, 4, 1, 1, 4, 4, 4, 1, 4, 1, 1, 1, 1, 4, 4, 1, 1, 4, 1, 1, 1,\n",
       "       4, 1, 1, 1, 1, 4, 4, 4, 4, 4, 1, 1, 4, 1, 1, 4, 4, 4, 1, 4, 1, 1,\n",
       "       1, 1, 4, 1, 1, 1, 1, 4, 4, 4, 4, 1, 1, 1, 4, 4, 4, 1, 4, 1, 4, 4,\n",
       "       4, 4, 1, 1, 1, 4, 4, 1, 1, 1, 1, 1, 4, 1, 1, 4, 4, 4, 4, 1, 1, 4,\n",
       "       4, 4, 4, 4, 4, 4, 4, 1, 1, 1, 4, 1, 4, 1, 1, 4, 1, 1, 4, 1, 4, 1,\n",
       "       3, 4, 1, 4, 4, 1, 3, 4, 1, 1, 1, 1, 1, 1, 1, 4, 4, 1, 4, 4, 1, 1,\n",
       "       1, 4, 4, 1, 1, 4, 4, 4, 4, 4, 1, 4, 1, 4, 1, 1, 1, 1, 4, 0, 1, 4,\n",
       "       1, 4, 1, 4, 4, 1, 1, 1, 1, 4, 4, 1, 1, 1, 4, 4, 1, 4, 4, 4, 1, 1,\n",
       "       4, 1, 4, 1, 1, 1, 1, 4, 4, 1, 4, 1, 4, 1, 1, 4, 1, 4, 4, 4, 1, 4,\n",
       "       1, 4, 4, 1, 1, 1, 4, 1, 4, 4, 4, 1, 4, 1, 1, 4, 4, 4, 4, 1, 4, 4,\n",
       "       1, 4, 4, 4, 1, 1, 1, 1, 1, 1, 4, 4, 1, 4, 4, 1, 4, 4, 1, 1, 1, 4,\n",
       "       1, 4, 4, 1, 1, 4, 1, 4, 4, 1, 4, 4, 1, 4, 1, 4, 4, 4, 1, 4, 4, 4,\n",
       "       1, 1, 1, 4, 4, 4, 1, 1, 4, 4, 1, 1, 1, 1, 1, 1, 4, 1, 1, 1, 4, 4,\n",
       "       1, 1, 4, 4, 4, 4, 4, 4, 4, 1, 4, 4, 4, 1, 1, 4, 4, 1, 4, 1, 4, 4,\n",
       "       1, 1, 1, 1, 4, 1, 1, 4, 1, 1, 1, 4, 1, 1, 1, 4, 4, 4, 1, 1, 1, 4,\n",
       "       1, 1, 1, 1, 4, 4, 4, 1, 4, 4, 1, 4, 4, 1, 4, 1, 1, 1, 4, 4, 4, 1,\n",
       "       1, 4, 4, 1, 1, 1, 1, 4, 4, 1, 1, 4, 4, 4, 4, 1, 1, 1, 1, 1, 4, 1,\n",
       "       1, 4, 1, 1, 1, 4, 1, 1, 4, 1, 4, 1, 1, 1, 1, 1, 1, 4, 1, 1, 4, 1,\n",
       "       1, 4, 4, 1, 1, 4, 1, 1, 1, 4, 4, 1, 1, 4, 1, 1, 1, 0, 1, 4, 4, 4,\n",
       "       1, 1, 1, 4, 4, 4, 4, 1, 4, 4, 1, 1, 1, 1, 4, 4, 1, 4, 1, 1, 1, 1,\n",
       "       4, 1, 4, 1, 4, 4, 4, 1, 1, 1, 1, 4, 4, 1, 4, 4, 4, 1, 1, 4, 1, 4,\n",
       "       1, 4, 4, 1, 4, 1, 1, 4, 1, 1, 3, 1, 4, 1, 4, 1, 4, 1, 3, 1, 4, 1,\n",
       "       4, 4, 4, 1, 4, 4, 1, 4, 4, 4, 1, 1, 4, 1, 1, 1, 4, 4, 1, 1, 0, 1,\n",
       "       1, 1, 1, 4, 1, 4, 4, 1, 4, 4, 1, 4, 1, 1, 1, 4, 1, 4, 1, 1, 1, 4,\n",
       "       0, 4, 4, 1, 4, 1, 1, 4, 1, 4, 1, 4, 1, 1, 1, 1, 1, 1, 4, 1, 4, 1,\n",
       "       4, 4, 4, 1, 1, 4, 4, 1, 1, 4, 1, 1, 4, 4, 1, 4, 1, 4, 4, 4, 1, 4,\n",
       "       1, 4, 1, 1, 4, 1, 4, 4, 4, 1, 1, 1, 1, 4, 4, 1, 1, 1, 1, 1, 4, 4,\n",
       "       4, 4, 4, 4, 4, 1, 4, 4, 4, 1, 1, 4, 1, 4, 4, 4, 4, 4, 1, 4, 1, 1,\n",
       "       1, 1, 4, 4, 1, 1, 1, 1, 4, 1, 4, 4, 4, 1, 1, 1, 1, 4, 1, 0, 1, 3,\n",
       "       1, 4, 1, 4, 4, 1, 4, 1, 4, 4, 1, 4, 4, 1, 1, 4, 4, 4, 4, 1, 1, 1,\n",
       "       1, 4, 4, 1, 4, 4, 4, 1, 4, 4, 4, 4, 4, 4, 4, 4, 4, 1, 4, 4, 4, 1,\n",
       "       4, 4, 4, 1, 4, 1, 4, 4, 1, 1, 1, 1, 4, 1, 1, 1, 4, 4, 1, 1, 1, 1,\n",
       "       4, 1, 4, 1, 4, 1, 1, 1, 4, 1, 4, 4, 1, 1, 1, 1, 1, 4, 1, 1, 1, 4,\n",
       "       4, 4, 4, 1, 4, 1, 1, 1, 4, 1, 4, 4, 1, 4, 1, 4, 4, 1, 4, 4, 4, 1,\n",
       "       4, 4, 1, 1, 4, 4, 1, 4, 1, 4, 4, 1, 1, 1, 1, 1, 4, 1, 1, 4, 4, 4,\n",
       "       4, 4, 1, 1, 4, 4, 4, 1, 1, 4, 1, 4, 4, 4, 4, 4, 4, 4, 1, 4, 4, 1,\n",
       "       4, 1, 4, 1, 4, 4, 4, 4, 1, 1, 4, 4, 1, 4, 4, 1, 4, 4, 1, 1, 1, 1,\n",
       "       4, 4, 1, 4, 4, 1, 1, 1, 4, 4, 1, 1, 1, 1, 4, 1, 1, 1, 4, 4, 1, 1,\n",
       "       4, 1, 1, 4, 4, 4, 4, 1, 1, 4, 1, 4, 1, 1, 4, 4, 1, 1, 4, 4, 1, 4,\n",
       "       1, 4, 1, 1, 4, 4, 1, 1, 4, 4])"
      ]
     },
     "execution_count": 12,
     "metadata": {},
     "output_type": "execute_result"
    }
   ],
   "source": [
    "y_test_trans"
   ]
  },
  {
   "cell_type": "code",
   "execution_count": 13,
   "id": "442d4c55",
   "metadata": {},
   "outputs": [
    {
     "data": {
      "text/plain": [
       "array([[1., 1., 0.],\n",
       "       [1., 1., 0.],\n",
       "       [1., 1., 2.],\n",
       "       ...,\n",
       "       [0., 1., 0.],\n",
       "       [1., 1., 0.],\n",
       "       [1., 1., 0.]], shape=(3472, 3))"
      ]
     },
     "execution_count": 13,
     "metadata": {},
     "output_type": "execute_result"
    }
   ],
   "source": [
    "oe = OrdinalEncoder()\n",
    "X_train_trans = oe.fit_transform(X_train)\n",
    "X_test_trans = oe.transform(X_test)\n",
    "X_train_trans"
   ]
  },
  {
   "cell_type": "code",
   "execution_count": null,
   "id": "6fdc382c",
   "metadata": {},
   "outputs": [],
   "source": []
  }
 ],
 "metadata": {
  "kernelspec": {
   "display_name": "Python 3",
   "language": "python",
   "name": "python3"
  },
  "language_info": {
   "codemirror_mode": {
    "name": "ipython",
    "version": 3
   },
   "file_extension": ".py",
   "mimetype": "text/x-python",
   "name": "python",
   "nbconvert_exporter": "python",
   "pygments_lexer": "ipython3",
   "version": "3.13.2"
  }
 },
 "nbformat": 4,
 "nbformat_minor": 5
}
